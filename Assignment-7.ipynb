{
 "cells": [
  {
   "cell_type": "code",
   "execution_count": 3,
   "metadata": {},
   "outputs": [
    {
     "name": "stdout",
     "output_type": "stream",
     "text": [
      "first order derivatives of given function are de/dm = -6.4*x*(-a*x - b + y) ,de/dc = 6.4*a*x + 6.4*b - 6.4*y\n",
      "3.24 2.14\n",
      "minimum value obtained at a = 3.24 ,b =2.14 for given function\n"
     ]
    }
   ],
   "source": [
    "from sympy import Symbol, Derivative, symbols\n",
    "a= Symbol('a')\n",
    "b= Symbol('b')\n",
    "function = '3.2*(y-a*x-b)**2'\n",
    "partialderiv= Derivative(function, a)\n",
    "dfa = partialderiv.doit()\n",
    "partialderiv= Derivative(function, b)\n",
    "dfb = partialderiv.doit()\n",
    "xa = [0.2,0.4,0.6,0.8]\n",
    "ya = [2.4,3.8,4.2,4.6]\n",
    "\n",
    "print(f'first order derivatives of given function are de/dm = {dfa} ,de/dc = {dfb}')\n",
    "\n",
    "\n",
    "a1 = -1.0 \n",
    "b1 = 2.0  \n",
    "itr = 100  \n",
    "learning_rate = 0.1  \n",
    "for i in range(0,itr):\n",
    "    dfav1 = 0\n",
    "    dfdv1 = 0\n",
    "    for j in range(0,len(xa)):\n",
    "        \n",
    "        a = symbols('a')\n",
    "        b = symbols('b')\n",
    "        x = symbols('x')\n",
    "        y = symbols('y')\n",
    "        dfav = dfa.subs(a, a1) \n",
    "        dfav = dfav.subs(b, b1) \n",
    "        dfav = dfav.subs(x, xa[j]) \n",
    "        dfav = dfav.subs(y, ya[j]) \n",
    "        dfav = round(dfav,2)\n",
    "        dfdv = dfb.subs(b, b1) \n",
    "        dfdv = dfdv.subs(a, a1) \n",
    "        dfdv = dfdv.subs(x, xa[j]) \n",
    "        dfdv = dfdv.subs(y, ya[j]) \n",
    "        dfdv = round(dfdv,2)\n",
    "        dfav1 += dfav\n",
    "        dfdv1 += dfdv\n",
    "    dfav1 = dfav1/len(xa)\n",
    "    dfdv1 = dfdv1/len(xa)\n",
    "    \n",
    "    dfav1 = round(dfav1,2)\n",
    "    dfdv1 = round(dfdv1,2)\n",
    "    \n",
    "    da = (-1.0)*learning_rate*dfav1\n",
    "    db = (-1.0)*learning_rate*dfdv1\n",
    "    a1 = a1 + da\n",
    "    a1 = round(a1, 2) \n",
    "    b1 = b1 + db\n",
    "    b1 = round(b1, 2)\n",
    "    \n",
    "print(a1, b1)\n",
    "print(f'minimum value obtained at a = {a1} ,b ={b1} for given function')\n",
    "  "
   ]
  },
  {
   "cell_type": "code",
   "execution_count": 5,
   "metadata": {},
   "outputs": [
    {
     "data": {
      "image/png": "[encoded data removed]",
      "text/plain": [
       "<Figure size 432x288 with 1 Axes>"
      ]
     },
     "metadata": {
      "needs_background": "light"
     },
     "output_type": "display_data"
    }
   ],
   "source": [
    "import matplotlib.pyplot as plt\n",
    "import numpy as np\n",
    "x = np.linspace(-5,5,100)\n",
    "y = a1*x+b1\n",
    "plt.plot(x, y, '-y', label='y='+str(a1)+'x+'+str(b1))\n",
    "plt.title('Graph of '+'y='+str(a1)+'x+'+str(b1))\n",
    "plt.xlabel('x', color='blue')\n",
    "plt.ylabel('y', color='green')\n",
    "plt.legend(loc='upper left')\n",
    "plt.grid()\n",
    "plt.show()"
   ]
  },
  {
   "cell_type": "code",
   "execution_count": 6,
   "metadata": {},
   "outputs": [
    {
     "name": "stdout",
     "output_type": "stream",
     "text": [
      "mean square error : 0.07847905158996582\n"
     ]
    }
   ],
   "source": [
    "data_pred = []\n",
    "for i in xa:\n",
    "    data_pred.append(a1*i+b1)\n",
    "\n",
    "from sklearn.metrics import mean_squared_error\n",
    "mse = mean_squared_error(ya,data_pred)\n",
    "print(f\"mean square error : {mse}\")"
   ]
  },
  {
   "cell_type": "code",
   "execution_count": null,
   "metadata": {},
   "outputs": [],
   "source": []
  }
 ],
 "metadata": {
  "kernelspec": {
   "display_name": "Python 3",
   "language": "python",
   "name": "python3"
  },
  "language_info": {
   "codemirror_mode": {
    "name": "ipython",
    "version": 3
   },
   "file_extension": ".py",
   "mimetype": "text/x-python",
   "name": "python",
   "nbconvert_exporter": "python",
   "pygments_lexer": "ipython3",
   "version": "3.7.6"
  }
 },
 "nbformat": 4,
 "nbformat_minor": 4
}
