{
 "cells": [
  {
   "cell_type": "code",
   "execution_count": 3,
   "metadata": {},
   "outputs": [],
   "source": [
    "import numpy as np\n",
    "import matplotlib.pyplot as plt\n",
    "import pandas as pd\n",
    "from sklearn.preprocessing import minmax_scale\n",
    "from sklearn.model_selection import train_test_split\n",
    "import seaborn as sns\n",
    "from scipy import stats"
   ]
  },
  {
   "cell_type": "code",
   "execution_count": 4,
   "metadata": {},
   "outputs": [
    {
     "data": {
      "text/html": [
       "<div>\n",
       "<style scoped>\n",
       "    .dataframe tbody tr th:only-of-type {\n",
       "        vertical-align: middle;\n",
       "    }\n",
       "\n",
       "    .dataframe tbody tr th {\n",
       "        vertical-align: top;\n",
       "    }\n",
       "\n",
       "    .dataframe thead th {\n",
       "        text-align: right;\n",
       "    }\n",
       "</style>\n",
       "<table border=\"1\" class=\"dataframe\">\n",
       "  <thead>\n",
       "    <tr style=\"text-align: right;\">\n",
       "      <th></th>\n",
       "      <th>YearsExperience</th>\n",
       "      <th>Salary</th>\n",
       "    </tr>\n",
       "  </thead>\n",
       "  <tbody>\n",
       "    <tr>\n",
       "      <th>0</th>\n",
       "      <td>1.1</td>\n",
       "      <td>39343</td>\n",
       "    </tr>\n",
       "    <tr>\n",
       "      <th>1</th>\n",
       "      <td>1.3</td>\n",
       "      <td>46205</td>\n",
       "    </tr>\n",
       "    <tr>\n",
       "      <th>2</th>\n",
       "      <td>1.5</td>\n",
       "      <td>37731</td>\n",
       "    </tr>\n",
       "    <tr>\n",
       "      <th>3</th>\n",
       "      <td>2.0</td>\n",
       "      <td>43525</td>\n",
       "    </tr>\n",
       "    <tr>\n",
       "      <th>4</th>\n",
       "      <td>2.2</td>\n",
       "      <td>39891</td>\n",
       "    </tr>\n",
       "  </tbody>\n",
       "</table>\n",
       "</div>"
      ],
      "text/plain": [
       "   YearsExperience  Salary\n",
       "0              1.1   39343\n",
       "1              1.3   46205\n",
       "2              1.5   37731\n",
       "3              2.0   43525\n",
       "4              2.2   39891"
      ]
     },
     "execution_count": 4,
     "metadata": {},
     "output_type": "execute_result"
    }
   ],
   "source": [
    "data=pd.read_csv(\"Salary_Data.csv\")\n",
    "data.head()"
   ]
  },
  {
   "cell_type": "code",
   "execution_count": 5,
   "metadata": {},
   "outputs": [
    {
     "name": "stdout",
     "output_type": "stream",
     "text": [
      "<class 'pandas.core.frame.DataFrame'>\n",
      "RangeIndex: 30 entries, 0 to 29\n",
      "Data columns (total 2 columns):\n",
      " #   Column           Non-Null Count  Dtype  \n",
      "---  ------           --------------  -----  \n",
      " 0   YearsExperience  30 non-null     float64\n",
      " 1   Salary           30 non-null     int64  \n",
      "dtypes: float64(1), int64(1)\n",
      "memory usage: 608.0 bytes\n"
     ]
    }
   ],
   "source": [
    "data.info()"
   ]
  },
  {
   "cell_type": "code",
   "execution_count": 6,
   "metadata": {},
   "outputs": [
    {
     "name": "stdout",
     "output_type": "stream",
     "text": [
      "[[1.51005294 1.36011263]\n",
      " [1.43837321 1.10552744]\n",
      " [1.36669348 1.419919  ]\n",
      " [1.18749416 1.20495739]\n",
      " [1.11581443 1.33978143]\n",
      " [0.86493538 0.71830716]\n",
      " [0.82909552 0.58815781]\n",
      " [0.75741579 0.79981746]\n",
      " [0.75741579 0.42881019]\n",
      " [0.57821647 0.69801306]\n",
      " [0.50653674 0.47433279]\n",
      " [0.47069688 0.74976858]\n",
      " [0.47069688 0.70662043]\n",
      " [0.43485702 0.70201994]\n",
      " [0.29149756 0.55250402]\n",
      " [0.1481381  0.29921736]\n",
      " [0.07645838 0.37004264]\n",
      " [0.00477865 0.26285865]\n",
      " [0.21026054 0.19885989]\n",
      " [0.2461004  0.66547573]\n",
      " [0.53281931 0.58377993]\n",
      " [0.6403389  0.82623317]\n",
      " [0.92705781 0.93861127]\n",
      " [1.03457741 1.40274136]\n",
      " [1.21377673 1.24020308]\n",
      " [1.32129632 1.09740238]\n",
      " [1.50049564 1.51986835]\n",
      " [1.5363355  1.3590738 ]\n",
      " [1.78721455 1.72102849]\n",
      " [1.85889428 1.70177321]]\n"
     ]
    }
   ],
   "source": [
    "z=np.abs(stats.zscore(data))\n",
    "print(z)"
   ]
  },
  {
   "cell_type": "code",
   "execution_count": 7,
   "metadata": {},
   "outputs": [
    {
     "data": {
      "text/plain": [
       "<matplotlib.axes._subplots.AxesSubplot at 0x1fc0aef0448>"
      ]
     },
     "execution_count": 7,
     "metadata": {},
     "output_type": "execute_result"
    },
    {
     "data": {
      "image/png": "[encoded data removed]",
      "text/plain": [
       "<Figure size 432x288 with 1 Axes>"
      ]
     },
     "metadata": {
      "needs_background": "light"
     },
     "output_type": "display_data"
    }
   ],
   "source": [
    "sns.boxplot(x=data['YearsExperience'])"
   ]
  },
  {
   "cell_type": "code",
   "execution_count": 8,
   "metadata": {},
   "outputs": [
    {
     "data": {
      "text/plain": [
       "<matplotlib.axes._subplots.AxesSubplot at 0x1fc0b613f08>"
      ]
     },
     "execution_count": 8,
     "metadata": {},
     "output_type": "execute_result"
    },
    {
     "data": {
      "image/png": "[encoded data removed]",
      "text/plain": [
       "<Figure size 432x288 with 1 Axes>"
      ]
     },
     "metadata": {
      "needs_background": "light"
     },
     "output_type": "display_data"
    }
   ],
   "source": [
    "sns.boxplot(y=data['Salary'])"
   ]
  },
  {
   "cell_type": "code",
   "execution_count": 9,
   "metadata": {},
   "outputs": [
    {
     "data": {
      "text/html": [
       "<div>\n",
       "<style scoped>\n",
       "    .dataframe tbody tr th:only-of-type {\n",
       "        vertical-align: middle;\n",
       "    }\n",
       "\n",
       "    .dataframe tbody tr th {\n",
       "        vertical-align: top;\n",
       "    }\n",
       "\n",
       "    .dataframe thead th {\n",
       "        text-align: right;\n",
       "    }\n",
       "</style>\n",
       "<table border=\"1\" class=\"dataframe\">\n",
       "  <thead>\n",
       "    <tr style=\"text-align: right;\">\n",
       "      <th></th>\n",
       "      <th>YearsExperience</th>\n",
       "      <th>Salary</th>\n",
       "    </tr>\n",
       "  </thead>\n",
       "  <tbody>\n",
       "    <tr>\n",
       "      <th>0</th>\n",
       "      <td>1.1</td>\n",
       "      <td>39343</td>\n",
       "    </tr>\n",
       "    <tr>\n",
       "      <th>1</th>\n",
       "      <td>1.3</td>\n",
       "      <td>46205</td>\n",
       "    </tr>\n",
       "    <tr>\n",
       "      <th>2</th>\n",
       "      <td>1.5</td>\n",
       "      <td>37731</td>\n",
       "    </tr>\n",
       "    <tr>\n",
       "      <th>3</th>\n",
       "      <td>2.0</td>\n",
       "      <td>43525</td>\n",
       "    </tr>\n",
       "    <tr>\n",
       "      <th>4</th>\n",
       "      <td>2.2</td>\n",
       "      <td>39891</td>\n",
       "    </tr>\n",
       "  </tbody>\n",
       "</table>\n",
       "</div>"
      ],
      "text/plain": [
       "   YearsExperience  Salary\n",
       "0              1.1   39343\n",
       "1              1.3   46205\n",
       "2              1.5   37731\n",
       "3              2.0   43525\n",
       "4              2.2   39891"
      ]
     },
     "execution_count": 9,
     "metadata": {},
     "output_type": "execute_result"
    }
   ],
   "source": [
    "f_data=data[(z<3).all(axis=1)]\n",
    "f_data.head()"
   ]
  },
  {
   "cell_type": "code",
   "execution_count": 10,
   "metadata": {},
   "outputs": [
    {
     "name": "stdout",
     "output_type": "stream",
     "text": [
      "30\n",
      "30\n",
      "No outliers\n"
     ]
    }
   ],
   "source": [
    "print(len(data))\n",
    "print(len(f_data))\n",
    "if(len(data)==len(f_data)):\n",
    "    print('No outliers')"
   ]
  },
  {
   "cell_type": "code",
   "execution_count": 11,
   "metadata": {},
   "outputs": [
    {
     "data": {
      "text/html": [
       "<div>\n",
       "<style scoped>\n",
       "    .dataframe tbody tr th:only-of-type {\n",
       "        vertical-align: middle;\n",
       "    }\n",
       "\n",
       "    .dataframe tbody tr th {\n",
       "        vertical-align: top;\n",
       "    }\n",
       "\n",
       "    .dataframe thead th {\n",
       "        text-align: right;\n",
       "    }\n",
       "</style>\n",
       "<table border=\"1\" class=\"dataframe\">\n",
       "  <thead>\n",
       "    <tr style=\"text-align: right;\">\n",
       "      <th></th>\n",
       "      <th>YearsExperience</th>\n",
       "      <th>Salary</th>\n",
       "    </tr>\n",
       "  </thead>\n",
       "  <tbody>\n",
       "    <tr>\n",
       "      <th>0</th>\n",
       "      <td>0.000000</td>\n",
       "      <td>0.019041</td>\n",
       "    </tr>\n",
       "    <tr>\n",
       "      <th>1</th>\n",
       "      <td>0.021277</td>\n",
       "      <td>0.100094</td>\n",
       "    </tr>\n",
       "    <tr>\n",
       "      <th>2</th>\n",
       "      <td>0.042553</td>\n",
       "      <td>0.000000</td>\n",
       "    </tr>\n",
       "    <tr>\n",
       "      <th>3</th>\n",
       "      <td>0.095745</td>\n",
       "      <td>0.068438</td>\n",
       "    </tr>\n",
       "    <tr>\n",
       "      <th>4</th>\n",
       "      <td>0.117021</td>\n",
       "      <td>0.025514</td>\n",
       "    </tr>\n",
       "  </tbody>\n",
       "</table>\n",
       "</div>"
      ],
      "text/plain": [
       "   YearsExperience    Salary\n",
       "0         0.000000  0.019041\n",
       "1         0.021277  0.100094\n",
       "2         0.042553  0.000000\n",
       "3         0.095745  0.068438\n",
       "4         0.117021  0.025514"
      ]
     },
     "execution_count": 11,
     "metadata": {},
     "output_type": "execute_result"
    }
   ],
   "source": [
    "data_n=data.copy()\n",
    "data_n=(data_n-data_n.min())/(data_n.max()-data_n.min())\n",
    "data_n.head()"
   ]
  },
  {
   "cell_type": "code",
   "execution_count": 12,
   "metadata": {},
   "outputs": [
    {
     "name": "stdout",
     "output_type": "stream",
     "text": [
      "27\n"
     ]
    },
    {
     "data": {
      "text/html": [
       "<div>\n",
       "<style scoped>\n",
       "    .dataframe tbody tr th:only-of-type {\n",
       "        vertical-align: middle;\n",
       "    }\n",
       "\n",
       "    .dataframe tbody tr th {\n",
       "        vertical-align: top;\n",
       "    }\n",
       "\n",
       "    .dataframe thead th {\n",
       "        text-align: right;\n",
       "    }\n",
       "</style>\n",
       "<table border=\"1\" class=\"dataframe\">\n",
       "  <thead>\n",
       "    <tr style=\"text-align: right;\">\n",
       "      <th></th>\n",
       "      <th>YearsExperience</th>\n",
       "      <th>Salary</th>\n",
       "    </tr>\n",
       "  </thead>\n",
       "  <tbody>\n",
       "    <tr>\n",
       "      <th>20</th>\n",
       "      <td>0.606383</td>\n",
       "      <td>0.637928</td>\n",
       "    </tr>\n",
       "    <tr>\n",
       "      <th>29</th>\n",
       "      <td>1.000000</td>\n",
       "      <td>0.993870</td>\n",
       "    </tr>\n",
       "    <tr>\n",
       "      <th>19</th>\n",
       "      <td>0.521277</td>\n",
       "      <td>0.663938</td>\n",
       "    </tr>\n",
       "    <tr>\n",
       "      <th>7</th>\n",
       "      <td>0.223404</td>\n",
       "      <td>0.197425</td>\n",
       "    </tr>\n",
       "    <tr>\n",
       "      <th>23</th>\n",
       "      <td>0.755319</td>\n",
       "      <td>0.898665</td>\n",
       "    </tr>\n",
       "  </tbody>\n",
       "</table>\n",
       "</div>"
      ],
      "text/plain": [
       "    YearsExperience    Salary\n",
       "20         0.606383  0.637928\n",
       "29         1.000000  0.993870\n",
       "19         0.521277  0.663938\n",
       "7          0.223404  0.197425\n",
       "23         0.755319  0.898665"
      ]
     },
     "execution_count": 12,
     "metadata": {},
     "output_type": "execute_result"
    }
   ],
   "source": [
    "train_data,test_data=train_test_split(data_n,test_size=0.1)\n",
    "print(len(train_data))\n",
    "train_data.head()"
   ]
  },
  {
   "cell_type": "code",
   "execution_count": 13,
   "metadata": {},
   "outputs": [],
   "source": [
    "x=np.array(train_data['YearsExperience'])\n",
    "y=np.array(train_data['Salary'])"
   ]
  },
  {
   "cell_type": "code",
   "execution_count": 15,
   "metadata": {},
   "outputs": [
    {
     "name": "stdout",
     "output_type": "stream",
     "text": [
      "The local minimum occurs at m =1.21 , c = -0.09\n",
      "[0.5132807196007086, 0.39785162925802225, 0.3087338671882998, 0.23992626887220206, 0.1867964872859253, 0.1457687758022224, 0.11408298550356333, 0.08960853342631787, 0.07070080327284523, 0.056090300059151596, 0.04479708776747887, 0.03606474313725377, 0.029309374107475052, 0.024080266774885426, 0.02002950848942464, 0.016888539696394787, 0.014450054129427885, 0.012554027434972671, 0.011076932563591173, 0.009923415050116393, 0.00901986710021082, 0.008309467379628016, 0.007748352190232293, 0.00730265997182764, 0.006946249930642331, 0.00665894103117034, 0.00642515266034268, 0.0062328553455477335, 0.00607276080551799, 0.005937696744033897, 0.0058221242479822525, 0.005721765262778408, 0.0056333150373274795, 0.005554220157609057, 0.005482507208613385, 0.0054166505166842365, 0.0053554700583245555, 0.005298052654725539, 0.005243691140725441, 0.005191837408371262, 0.00514206616039633, 0.005094046930768658, 0.0050475224866595786, 0.005002292156285076, 0.004958198959071744, 0.0049151196708722205, 0.0048729571547739044, 0.00483163444074263, 0.004791090155211703, 0.004751274992710253, 0.004712148991856022, 0.004673679432249307, 0.004635839210651438, 0.00459860558713275, 0.004561959216808809, 0.0045258834020303835, 0.0044903635147492136, 0.004455386550249581, 0.00442094078228786, 0.004387015496515334, 0.004353600784334013, 0.004320687383406654, 0.004288266554184909, 0.004256329984245502, 0.004224869714096875, 0.0041938780795642535, 0.004163347666976785, 0.004133271278241795, 0.0041036419035558715, 0.004074452700015808, 0.004045696974788495, 0.0040173681718045995, 0.003989459861177038, 0.003961965730727246, 0.003934879579143075, 0.003908195310400587, 0.003881906929165886, 0.00385600853695774, 0.003830494328901795, 0.0038053585909456024, 0.0037805956974335054, 0.0037562001089634298, 0.003732166370465223, 0.003708489109454053, 0.0036851630344227867, 0.0036621829333455327, 0.003639543672270737, 0.0036172401939871916, 0.003595267516749971, 0.003573620733056252, 0.003552295008463223, 0.0035312855804419986, 0.0035105877572627693, 0.0034901969169075066, 0.0034701085060072773, 0.0034503180388018905, 0.0034308210961200136, 0.0034116133243783458, 0.0033926904345986312, 0.0033740482014415884]\n"
     ]
    }
   ],
   "source": [
    "m=1\n",
    "c=-1\n",
    "epochs=100 # epochs\n",
    "l=0.1      # learning rate\n",
    "err=[]\n",
    "ns=len(x)\n",
    "for i in range(epochs):\n",
    "    er=0\n",
    "    m_d=0\n",
    "    c_d=0\n",
    "    for j in range(len(x)):\n",
    "        er+=((y[j]-(m*x[j])-c))**2\n",
    "        m_d=m_d+((-1.0)*((y[j]-m*x[j]-c)*x[j]))\n",
    "        c_d=c_d+((-1.0)*(y[j]-m*x[j]-c))\n",
    "    m_d=m_d/ns\n",
    "    c_d=c_d/ns\n",
    "    d_m=-l*m_d\n",
    "    d_c=-l*c_d\n",
    "    m=m+d_m\n",
    "    c=c+d_c\n",
    "    er=(1/(2*len(train_data['YearsExperience'])))*(er)\n",
    "    err.append(er)\n",
    "print(\"The local minimum occurs at m =%.2f\"%(m),\", c = %.2f\"%(c))\n",
    "print(err)"
   ]
  },
  {
   "cell_type": "code",
   "execution_count": 16,
   "metadata": {},
   "outputs": [],
   "source": [
    "#RMSE FOR TRAINING DATA\n",
    "train_data_pred=m*train_data['YearsExperience']+c"
   ]
  },
  {
   "cell_type": "code",
   "execution_count": 17,
   "metadata": {},
   "outputs": [
    {
     "name": "stdout",
     "output_type": "stream",
     "text": [
      "Predicted values (yp) :  [0.6460542333365209, 1.1240593918261153, 0.5427017666360683, 0.1809681331844834, 0.8269210500623133, 0.3489158915727192, 1.0077878667881057, 0.42643024159805876, 0.025939433133804174, -0.06449397522909202, 0.9948688084505493, 0.1551300165093702, -0.09033209190420521, 0.8915163417500964, 0.051777549808917384, -0.03865585855397882, 0.1809681331844834, 0.5297827082985117, 0.4522683582731719, 0.2843205998849362, 0.2714015415473796, 0.14221095817181356, 0.40059212492294566, 1.098221275151002, 0.29723965822249276, 0.7881638750496437, 0.6848114083491907]\n"
     ]
    }
   ],
   "source": [
    "yp=[]\n",
    "for i in range(len(x)):\n",
    "  p=(m*x[i])+c\n",
    "  yp.append(p)\n",
    "print(\"Predicted values (yp) : \",yp)"
   ]
  },
  {
   "cell_type": "code",
   "execution_count": 18,
   "metadata": {},
   "outputs": [
    {
     "name": "stdout",
     "output_type": "stream",
     "text": [
      "Mean Square Error (MSE) :  0.006711364924513923\n"
     ]
    }
   ],
   "source": [
    "sum=0\n",
    "for i in range(len(x)):\n",
    "    sum+=(y[i]-yp[i])**2\n",
    "    mse=sum/len(x)\n",
    "print(\"Mean Square Error (MSE) : \",mse)"
   ]
  },
  {
   "cell_type": "code",
   "execution_count": 19,
   "metadata": {},
   "outputs": [
    {
     "data": {
      "text/plain": [
       "Text(0.5, 1.0, 'Predicted data vs Actual data')"
      ]
     },
     "execution_count": 19,
     "metadata": {},
     "output_type": "execute_result"
    },
    {
     "data": {
      "image/png": "[encoded data removed]",
      "text/plain": [
       "<Figure size 432x288 with 1 Axes>"
      ]
     },
     "metadata": {
      "needs_background": "light"
     },
     "output_type": "display_data"
    }
   ],
   "source": [
    "plt.plot(np.array(train_data['YearsExperience']),np.array(train_data_pred),'green')\n",
    "plt.scatter(np.array(train_data['YearsExperience']),np.array(train_data['Salary']),color='red')\n",
    "plt.title(\"Predicted data vs Actual data\")"
   ]
  },
  {
   "cell_type": "code",
   "execution_count": 20,
   "metadata": {},
   "outputs": [
    {
     "data": {
      "image/png": "[encoded data removed]",
      "text/plain": [
       "<Figure size 432x288 with 1 Axes>"
      ]
     },
     "metadata": {
      "needs_background": "light"
     },
     "output_type": "display_data"
    }
   ],
   "source": [
    "iters=np.arange(epochs)\n",
    "plt.plot(iters,err,'green')\n",
    "plt.title(\"Error graph for training data\")\n",
    "plt.xlabel(\"iteration count\")\n",
    "plt.ylabel(\"error\")\n",
    "plt.grid()"
   ]
  },
  {
   "cell_type": "code",
   "execution_count": 21,
   "metadata": {},
   "outputs": [
    {
     "name": "stdout",
     "output_type": "stream",
     "text": [
      "9     0.245563\n",
      "25    0.930274\n",
      "11    0.284321\n",
      "Name: YearsExperience, dtype: float64\n"
     ]
    }
   ],
   "source": [
    "#TO TEST DATA\n",
    "tx=np.array(test_data['YearsExperience'])\n",
    "ty=np.array(test_data['Salary'])\n",
    "test_data_pred=m*test_data['YearsExperience']+c\n",
    "print(test_data_pred)"
   ]
  },
  {
   "cell_type": "code",
   "execution_count": 22,
   "metadata": {},
   "outputs": [
    {
     "name": "stdout",
     "output_type": "stream",
     "text": [
      "Predicted values (yp) :  [0.2455634248722664, 0.9302735167627663, 0.2843205998849362]\n"
     ]
    }
   ],
   "source": [
    "yp1=[]\n",
    "for i in range(len(tx)):\n",
    "    p1=(m*tx[i])+c\n",
    "    yp1.append(p1)\n",
    "print(\"Predicted values (yp) : \",yp1)"
   ]
  },
  {
   "cell_type": "code",
   "execution_count": 23,
   "metadata": {},
   "outputs": [
    {
     "name": "stdout",
     "output_type": "stream",
     "text": [
      "Mean Square Error (MSE) :  0.0072925276147914365\n"
     ]
    }
   ],
   "source": [
    "sum=0\n",
    "for i in range(len(tx)):\n",
    "    sum+=(ty[i]-yp1[i])**2\n",
    "    mse1=sum/len(tx)\n",
    "print(\"Mean Square Error (MSE) : \",mse1)"
   ]
  },
  {
   "cell_type": "code",
   "execution_count": 26,
   "metadata": {},
   "outputs": [
    {
     "data": {
      "image/png": "[encoded data removed]",
      "text/plain": [
       "<Figure size 432x288 with 1 Axes>"
      ]
     },
     "metadata": {
      "needs_background": "light"
     },
     "output_type": "display_data"
    }
   ],
   "source": [
    "plt.scatter(test_data['YearsExperience'],test_data['Salary'],color='blue')\n",
    "plt.plot(test_data['YearsExperience'],test_data_pred,'violet')\n",
    "plt.grid()"
   ]
  },
  {
   "cell_type": "code",
   "execution_count": null,
   "metadata": {},
   "outputs": [],
   "source": []
  }
 ],
 "metadata": {
  "kernelspec": {
   "display_name": "Python 3",
   "language": "python",
   "name": "python3"
  },
  "language_info": {
   "codemirror_mode": {
    "name": "ipython",
    "version": 3
   },
   "file_extension": ".py",
   "mimetype": "text/x-python",
   "name": "python",
   "nbconvert_exporter": "python",
   "pygments_lexer": "ipython3",
   "version": "3.7.6"
  }
 },
 "nbformat": 4,
 "nbformat_minor": 4
}
