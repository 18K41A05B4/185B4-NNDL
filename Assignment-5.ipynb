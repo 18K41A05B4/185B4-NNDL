{
 "cells": [
  {
   "cell_type": "code",
   "execution_count": 5,
   "metadata": {},
   "outputs": [
    {
     "name": "stdout",
     "output_type": "stream",
     "text": [
      "first order derivatives of given function are de/dm = 6.4*a*x + 6.4*b - 6.4*y ,de/dc = -6.4*x*(-a*x - b + y)\n",
      "3.37 2.04\n",
      "minimum value  at a = 3.37 ,b= 2.04 for given function\n"
     ]
    }
   ],
   "source": [
    "from sympy import Symbol, Derivative, symbols\n",
    "a= Symbol('a')\n",
    "b= Symbol('b')\n",
    "function = '3.2*(y-a*x-b)**2'\n",
    "partialderiv= Derivative(function, a)\n",
    "dfa = partialderiv.doit()\n",
    "partialderiv= Derivative(function, b)\n",
    "dfb = partialderiv.doit()\n",
    "xa = [0.2,0.4,0.6,0.8]\n",
    "ya = [2.4,3.8,4.2,4.6]\n",
    "\n",
    "print(f'first order derivatives of given function are de/dm = {dfb} ,de/dc = {dfa}')\n",
    "\n",
    "bs = 2\n",
    "a1 = 1.0 \n",
    "b1 = -1.0  \n",
    "itr = 1000 \n",
    "learning_rate = 0.1  \n",
    "\n",
    "ns = len(xa)\n",
    "nb = ns//bs\n",
    "ms = ns%bs\n",
    "\n",
    "for i in range(0,itr):\n",
    "    for k in range(0,nb):\n",
    "        dfav1 = 0\n",
    "        dfdv1 = 0\n",
    "        for j in range(0,bs):\n",
    "            index = k*bs + j\n",
    "           \n",
    "            a = symbols('a')\n",
    "            b = symbols('b')\n",
    "            x = symbols('x')\n",
    "            y = symbols('y')\n",
    "            dfav = dfa.subs(a, a1) \n",
    "            dfav = dfav.subs(b, b1) \n",
    "            dfav = dfav.subs(x, xa[index]) \n",
    "            dfav = dfav.subs(y, ya[index]) \n",
    "            dfav = round(dfav,2)\n",
    "            dfdv = dfb.subs(b, b1) \n",
    "            dfdv = dfdv.subs(a, a1) \n",
    "            dfdv = dfdv.subs(x, xa[index]) \n",
    "            dfdv = dfdv.subs(y, ya[index]) \n",
    "            dfdv = round(dfdv,2)\n",
    "            dfav1 += dfav\n",
    "            dfdv1 += dfdv\n",
    "            \n",
    "        dfav1 = dfav1/bs\n",
    "        dfdv1 = dfdv1/bs\n",
    "\n",
    "        dfav1 = round(dfav1,2)\n",
    "        dfdv1 = round(dfdv1,2)\n",
    "\n",
    "        \n",
    "        da = (-1.0)*learning_rate*dfav1\n",
    "        db = (-1.0)*learning_rate*dfdv1\n",
    "        \n",
    "        a1 = a1 + da \n",
    "        b1 = b1 + db\n",
    "       \n",
    "    k = nb\n",
    "if(ms>0):\n",
    "    dfav1 = 0\n",
    "    dfdv1 = 0\n",
    "    for j in range(0,ms):\n",
    "        index = k*bs + j\n",
    "        \n",
    "        a = symbols('a')\n",
    "        b = symbols('b')\n",
    "        x = symbols('x')\n",
    "        y = symbols('y')\n",
    "        dfav = dfa.subs(a, a1) \n",
    "        dfav = dfav.subs(b, b1) \n",
    "        dfav = dfav.subs(x, xa[index]) \n",
    "        dfav = dfav.subs(y, ya[index]) \n",
    "        dfdv = dfb.subs(b, b1) \n",
    "        dfdv = dfdv.subs(a, a1) \n",
    "        dfdv = dfdv.subs(x, xa[index]) \n",
    "        dfdv = dfdv.subs(y, ya[index]) \n",
    "        dfav1 += dfav\n",
    "        dfdv1 += dfdv\n",
    "\n",
    "        dfav1 = dfav1/ms\n",
    "        dfdv1 = dfdv1/ms\n",
    "\n",
    "    \n",
    "    da = (-1.0)*learning_rate*dfav1\n",
    "    db = (-1.0)*learning_rate*dfdv1\n",
    "   \n",
    "    a1 = a1 + da \n",
    "    b1 = b1 + db\n",
    "\n",
    "a1= round(a1,2)\n",
    "b1= round(b1,2)\n",
    "print(a1, b1)\n",
    "print(f'minimum value  at a = {a1} ,b= {b1} for given function')"
   ]
  },
  {
   "cell_type": "code",
   "execution_count": 6,
   "metadata": {},
   "outputs": [
    {
     "data": {
      "image/png": "[encoded data removed]",
      "text/plain": [
       "<Figure size 432x288 with 1 Axes>"
      ]
     },
     "metadata": {
      "needs_background": "light"
     },
     "output_type": "display_data"
    }
   ],
   "source": [
    "import matplotlib.pyplot as plt\n",
    "import numpy as np\n",
    "x = np.linspace(-15,5,100)\n",
    "y = a1*x+b1\n",
    "plt.plot(x, y, '-b', label='y='+str(a1)+'x+'+str(b1))\n",
    "plt.title('Graph of '+'y='+str(a1)+'x+'+str(b1))\n",
    "plt.xlabel('x', color='#1C2833')\n",
    "plt.ylabel('y', color='#1C2833')\n",
    "plt.legend(loc='upper left')\n",
    "plt.grid()\n",
    "plt.show()"
   ]
  },
  {
   "cell_type": "code",
   "execution_count": 7,
   "metadata": {},
   "outputs": [
    {
     "name": "stdout",
     "output_type": "stream",
     "text": [
      "mean square error : 0.07646360397338862\n"
     ]
    }
   ],
   "source": [
    "data_pred = []\n",
    "for i in xa:\n",
    "    data_pred.append(a1*i+b1)\n",
    "\n",
    "from sklearn.metrics import mean_squared_error\n",
    "mse = mean_squared_error(ya,data_pred)\n",
    "print(f\"mean square error : {mse}\")"
   ]
  },
  {
   "cell_type": "code",
   "execution_count": null,
   "metadata": {},
   "outputs": [],
   "source": []
  }
 ],
 "metadata": {
  "kernelspec": {
   "display_name": "Python 3",
   "language": "python",
   "name": "python3"
  },
  "language_info": {
   "codemirror_mode": {
    "name": "ipython",
    "version": 3
   },
   "file_extension": ".py",
   "mimetype": "text/x-python",
   "name": "python",
   "nbconvert_exporter": "python",
   "pygments_lexer": "ipython3",
   "version": "3.7.6"
  }
 },
 "nbformat": 4,
 "nbformat_minor": 4
}
