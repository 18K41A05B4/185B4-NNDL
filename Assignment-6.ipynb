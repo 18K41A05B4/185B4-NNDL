{
 "cells": [
  {
   "cell_type": "code",
   "execution_count": 2,
   "metadata": {},
   "outputs": [],
   "source": [
    "import numpy as np\n",
    "import matplotlib.pyplot as plt\n",
    "import pandas as pd\n",
    "from sklearn.preprocessing import minmax_scale\n",
    "from sklearn.model_selection import train_test_split\n",
    "import seaborn as sns\n",
    "from scipy import stats"
   ]
  },
  {
   "cell_type": "code",
   "execution_count": 3,
   "metadata": {},
   "outputs": [
    {
     "data": {
      "text/html": [
       "<div>\n",
       "<style scoped>\n",
       "    .dataframe tbody tr th:only-of-type {\n",
       "        vertical-align: middle;\n",
       "    }\n",
       "\n",
       "    .dataframe tbody tr th {\n",
       "        vertical-align: top;\n",
       "    }\n",
       "\n",
       "    .dataframe thead th {\n",
       "        text-align: right;\n",
       "    }\n",
       "</style>\n",
       "<table border=\"1\" class=\"dataframe\">\n",
       "  <thead>\n",
       "    <tr style=\"text-align: right;\">\n",
       "      <th></th>\n",
       "      <th>X</th>\n",
       "      <th>Y</th>\n",
       "    </tr>\n",
       "  </thead>\n",
       "  <tbody>\n",
       "    <tr>\n",
       "      <th>0</th>\n",
       "      <td>75.1</td>\n",
       "      <td>577.8</td>\n",
       "    </tr>\n",
       "    <tr>\n",
       "      <th>1</th>\n",
       "      <td>74.3</td>\n",
       "      <td>577.0</td>\n",
       "    </tr>\n",
       "    <tr>\n",
       "      <th>2</th>\n",
       "      <td>88.7</td>\n",
       "      <td>570.9</td>\n",
       "    </tr>\n",
       "    <tr>\n",
       "      <th>3</th>\n",
       "      <td>114.6</td>\n",
       "      <td>578.6</td>\n",
       "    </tr>\n",
       "    <tr>\n",
       "      <th>4</th>\n",
       "      <td>98.5</td>\n",
       "      <td>572.4</td>\n",
       "    </tr>\n",
       "  </tbody>\n",
       "</table>\n",
       "</div>"
      ],
      "text/plain": [
       "       X      Y\n",
       "0   75.1  577.8\n",
       "1   74.3  577.0\n",
       "2   88.7  570.9\n",
       "3  114.6  578.6\n",
       "4   98.5  572.4"
      ]
     },
     "execution_count": 3,
     "metadata": {},
     "output_type": "execute_result"
    }
   ],
   "source": [
    "#TO READ DATA\n",
    "data=pd.read_excel(\"pressure_weight.xlsx\")\n",
    "data.head()"
   ]
  },
  {
   "cell_type": "code",
   "execution_count": 4,
   "metadata": {},
   "outputs": [
    {
     "name": "stdout",
     "output_type": "stream",
     "text": [
      "<class 'pandas.core.frame.DataFrame'>\n",
      "RangeIndex: 30 entries, 0 to 29\n",
      "Data columns (total 2 columns):\n",
      " #   Column  Non-Null Count  Dtype  \n",
      "---  ------  --------------  -----  \n",
      " 0   X       30 non-null     float64\n",
      " 1   Y       30 non-null     float64\n",
      "dtypes: float64(2)\n",
      "memory usage: 608.0 bytes\n"
     ]
    }
   ],
   "source": [
    "data.info()"
   ]
  },
  {
   "cell_type": "code",
   "execution_count": 5,
   "metadata": {},
   "outputs": [
    {
     "name": "stdout",
     "output_type": "stream",
     "text": [
      "[0.90855142 0.95645395 0.09420832 1.45663625 0.49259774 1.30095302\n",
      " 1.46861189 1.68097979 1.00156217 0.01357238 0.98639304 1.52849006\n",
      " 0.54648809 0.16326781 0.98040522 1.4714062  1.44146712 0.74089254\n",
      " 1.16922104 0.9057571  0.10019614 0.04031797 0.98639304 0.66025661\n",
      " 1.77997837 0.86064888 0.84268543 0.50137987 0.35767226 0.46265865]\n"
     ]
    }
   ],
   "source": [
    "#OUTLIERS\n",
    "z=np.abs(stats.zscore(data['X']))\n",
    "print(z)"
   ]
  },
  {
   "cell_type": "code",
   "execution_count": 6,
   "metadata": {},
   "outputs": [
    {
     "data": {
      "text/plain": [
       "<matplotlib.axes._subplots.AxesSubplot at 0x1ae9466ff88>"
      ]
     },
     "execution_count": 6,
     "metadata": {},
     "output_type": "execute_result"
    },
    {
     "data": {
      "image/png": "[encoded data removed]",
      "text/plain": [
       "<Figure size 432x288 with 1 Axes>"
      ]
     },
     "metadata": {
      "needs_background": "light"
     },
     "output_type": "display_data"
    }
   ],
   "source": [
    "sns.boxplot(x=data['X'])"
   ]
  },
  {
   "cell_type": "code",
   "execution_count": 7,
   "metadata": {},
   "outputs": [
    {
     "data": {
      "text/html": [
       "<div>\n",
       "<style scoped>\n",
       "    .dataframe tbody tr th:only-of-type {\n",
       "        vertical-align: middle;\n",
       "    }\n",
       "\n",
       "    .dataframe tbody tr th {\n",
       "        vertical-align: top;\n",
       "    }\n",
       "\n",
       "    .dataframe thead th {\n",
       "        text-align: right;\n",
       "    }\n",
       "</style>\n",
       "<table border=\"1\" class=\"dataframe\">\n",
       "  <thead>\n",
       "    <tr style=\"text-align: right;\">\n",
       "      <th></th>\n",
       "      <th>X</th>\n",
       "      <th>Y</th>\n",
       "    </tr>\n",
       "  </thead>\n",
       "  <tbody>\n",
       "    <tr>\n",
       "      <th>0</th>\n",
       "      <td>75.1</td>\n",
       "      <td>577.8</td>\n",
       "    </tr>\n",
       "    <tr>\n",
       "      <th>1</th>\n",
       "      <td>74.3</td>\n",
       "      <td>577.0</td>\n",
       "    </tr>\n",
       "    <tr>\n",
       "      <th>2</th>\n",
       "      <td>88.7</td>\n",
       "      <td>570.9</td>\n",
       "    </tr>\n",
       "    <tr>\n",
       "      <th>3</th>\n",
       "      <td>114.6</td>\n",
       "      <td>578.6</td>\n",
       "    </tr>\n",
       "    <tr>\n",
       "      <th>4</th>\n",
       "      <td>98.5</td>\n",
       "      <td>572.4</td>\n",
       "    </tr>\n",
       "  </tbody>\n",
       "</table>\n",
       "</div>"
      ],
      "text/plain": [
       "       X      Y\n",
       "0   75.1  577.8\n",
       "1   74.3  577.0\n",
       "2   88.7  570.9\n",
       "3  114.6  578.6\n",
       "4   98.5  572.4"
      ]
     },
     "execution_count": 7,
     "metadata": {},
     "output_type": "execute_result"
    }
   ],
   "source": [
    "df=pd.DataFrame(data=data)\n",
    "df.head()"
   ]
  },
  {
   "cell_type": "code",
   "execution_count": 10,
   "metadata": {},
   "outputs": [
    {
     "data": {
      "text/html": [
       "<div>\n",
       "<style scoped>\n",
       "    .dataframe tbody tr th:only-of-type {\n",
       "        vertical-align: middle;\n",
       "    }\n",
       "\n",
       "    .dataframe tbody tr th {\n",
       "        vertical-align: top;\n",
       "    }\n",
       "\n",
       "    .dataframe thead th {\n",
       "        text-align: right;\n",
       "    }\n",
       "</style>\n",
       "<table border=\"1\" class=\"dataframe\">\n",
       "  <thead>\n",
       "    <tr style=\"text-align: right;\">\n",
       "      <th></th>\n",
       "      <th>X</th>\n",
       "      <th>Y</th>\n",
       "    </tr>\n",
       "  </thead>\n",
       "  <tbody>\n",
       "    <tr>\n",
       "      <th>0</th>\n",
       "      <td>75.1</td>\n",
       "      <td>577.8</td>\n",
       "    </tr>\n",
       "    <tr>\n",
       "      <th>1</th>\n",
       "      <td>74.3</td>\n",
       "      <td>577.0</td>\n",
       "    </tr>\n",
       "    <tr>\n",
       "      <th>2</th>\n",
       "      <td>88.7</td>\n",
       "      <td>570.9</td>\n",
       "    </tr>\n",
       "    <tr>\n",
       "      <th>4</th>\n",
       "      <td>98.5</td>\n",
       "      <td>572.4</td>\n",
       "    </tr>\n",
       "    <tr>\n",
       "      <th>5</th>\n",
       "      <td>112.0</td>\n",
       "      <td>411.2</td>\n",
       "    </tr>\n",
       "  </tbody>\n",
       "</table>\n",
       "</div>"
      ],
      "text/plain": [
       "       X      Y\n",
       "0   75.1  577.8\n",
       "1   74.3  577.0\n",
       "2   88.7  570.9\n",
       "4   98.5  572.4\n",
       "5  112.0  411.2"
      ]
     },
     "execution_count": 10,
     "metadata": {},
     "output_type": "execute_result"
    }
   ],
   "source": [
    "x=df\n",
    "df.drop(['X'],axis=1)\n",
    "for i in df:\n",
    "    if i!='X':\n",
    "        q=df[i].quantile(0.99)\n",
    "        df[df[i]<q]\n",
    "        q_low=df[i].quantile(0.01)\n",
    "        q_hi=df[i].quantile(0.99)\n",
    "        df_filtered=df[(df[i]<q_hi)&(df[i]>q_low)]\n",
    "df_filtered.head()"
   ]
  },
  {
   "cell_type": "code",
   "execution_count": 11,
   "metadata": {},
   "outputs": [
    {
     "name": "stdout",
     "output_type": "stream",
     "text": [
      "30\n",
      "28\n"
     ]
    }
   ],
   "source": [
    "print(len(df))\n",
    "print(len(df_filtered))\n",
    "if(len(df)==len(df_filtered)):\n",
    "    print('No outliers')\n",
    "data=df_filtered"
   ]
  },
  {
   "cell_type": "code",
   "execution_count": 12,
   "metadata": {},
   "outputs": [
    {
     "data": {
      "text/html": [
       "<div>\n",
       "<style scoped>\n",
       "    .dataframe tbody tr th:only-of-type {\n",
       "        vertical-align: middle;\n",
       "    }\n",
       "\n",
       "    .dataframe tbody tr th {\n",
       "        vertical-align: top;\n",
       "    }\n",
       "\n",
       "    .dataframe thead th {\n",
       "        text-align: right;\n",
       "    }\n",
       "</style>\n",
       "<table border=\"1\" class=\"dataframe\">\n",
       "  <thead>\n",
       "    <tr style=\"text-align: right;\">\n",
       "      <th></th>\n",
       "      <th>X</th>\n",
       "      <th>Y</th>\n",
       "    </tr>\n",
       "  </thead>\n",
       "  <tbody>\n",
       "    <tr>\n",
       "      <th>0</th>\n",
       "      <td>75.1</td>\n",
       "      <td>1.000000</td>\n",
       "    </tr>\n",
       "    <tr>\n",
       "      <th>1</th>\n",
       "      <td>74.3</td>\n",
       "      <td>0.995198</td>\n",
       "    </tr>\n",
       "    <tr>\n",
       "      <th>2</th>\n",
       "      <td>88.7</td>\n",
       "      <td>0.958583</td>\n",
       "    </tr>\n",
       "    <tr>\n",
       "      <th>4</th>\n",
       "      <td>98.5</td>\n",
       "      <td>0.967587</td>\n",
       "    </tr>\n",
       "    <tr>\n",
       "      <th>5</th>\n",
       "      <td>112.0</td>\n",
       "      <td>0.000000</td>\n",
       "    </tr>\n",
       "  </tbody>\n",
       "</table>\n",
       "</div>"
      ],
      "text/plain": [
       "       X         Y\n",
       "0   75.1  1.000000\n",
       "1   74.3  0.995198\n",
       "2   88.7  0.958583\n",
       "4   98.5  0.967587\n",
       "5  112.0  0.000000"
      ]
     },
     "execution_count": 12,
     "metadata": {},
     "output_type": "execute_result"
    }
   ],
   "source": [
    "data_n=data.copy()\n",
    "for i in data:\n",
    "    if i!='X':\n",
    "        data_n[i]=data[i].copy()\n",
    "        data_n[i]=(data_n[i]-data_n[i].min())/(data_n[i].max()-data_n[i].min())\n",
    "data_n.head()"
   ]
  },
  {
   "cell_type": "code",
   "execution_count": 24,
   "metadata": {},
   "outputs": [],
   "source": [
    "train_data,test_data=train_test_split(data_n,test_size=0.1)"
   ]
  },
  {
   "cell_type": "code",
   "execution_count": 25,
   "metadata": {},
   "outputs": [
    {
     "name": "stdout",
     "output_type": "stream",
     "text": [
      "25\n"
     ]
    },
    {
     "data": {
      "text/html": [
       "<div>\n",
       "<style scoped>\n",
       "    .dataframe tbody tr th:only-of-type {\n",
       "        vertical-align: middle;\n",
       "    }\n",
       "\n",
       "    .dataframe tbody tr th {\n",
       "        vertical-align: top;\n",
       "    }\n",
       "\n",
       "    .dataframe thead th {\n",
       "        text-align: right;\n",
       "    }\n",
       "</style>\n",
       "<table border=\"1\" class=\"dataframe\">\n",
       "  <thead>\n",
       "    <tr style=\"text-align: right;\">\n",
       "      <th></th>\n",
       "      <th>X</th>\n",
       "      <th>Y</th>\n",
       "    </tr>\n",
       "  </thead>\n",
       "  <tbody>\n",
       "    <tr>\n",
       "      <th>22</th>\n",
       "      <td>73.8</td>\n",
       "      <td>0.549820</td>\n",
       "    </tr>\n",
       "    <tr>\n",
       "      <th>21</th>\n",
       "      <td>89.6</td>\n",
       "      <td>0.609844</td>\n",
       "    </tr>\n",
       "    <tr>\n",
       "      <th>12</th>\n",
       "      <td>99.4</td>\n",
       "      <td>0.571429</td>\n",
       "    </tr>\n",
       "    <tr>\n",
       "      <th>9</th>\n",
       "      <td>90.5</td>\n",
       "      <td>0.575630</td>\n",
       "    </tr>\n",
       "    <tr>\n",
       "      <th>11</th>\n",
       "      <td>115.8</td>\n",
       "      <td>0.564226</td>\n",
       "    </tr>\n",
       "  </tbody>\n",
       "</table>\n",
       "</div>"
      ],
      "text/plain": [
       "        X         Y\n",
       "22   73.8  0.549820\n",
       "21   89.6  0.609844\n",
       "12   99.4  0.571429\n",
       "9    90.5  0.575630\n",
       "11  115.8  0.564226"
      ]
     },
     "execution_count": 25,
     "metadata": {},
     "output_type": "execute_result"
    }
   ],
   "source": [
    "print(len(train_data))\n",
    "train_data.head()"
   ]
  },
  {
   "cell_type": "code",
   "execution_count": 26,
   "metadata": {},
   "outputs": [],
   "source": [
    "x=np.array(train_data['X'])\n",
    "y=np.array(train_data['Y'])"
   ]
  },
  {
   "cell_type": "code",
   "execution_count": 27,
   "metadata": {},
   "outputs": [
    {
     "name": "stdout",
     "output_type": "stream",
     "text": [
      "Minimum value obtained at m = -768.4 ,c =-9.67 for given function \n"
     ]
    }
   ],
   "source": [
    "bs=2\n",
    "m=1\n",
    "c=-1  \n",
    "l=0.1      #Learning rate\n",
    "epochs=100 #Maximum iterations\n",
    "ns=len(x)\n",
    "nb=ns//bs\n",
    "ms=ns%bs\n",
    "err=[]\n",
    "k=nb\n",
    "if(ms>0):\n",
    "    er=0\n",
    "    g_m=0\n",
    "    g_c=0\n",
    "    for j in range(0,ms):\n",
    "        er+=((y[j]-(m*x[j])-c))**2\n",
    "        ind=k*bs + j\n",
    "        g_m=g_m+((-1.0)*((y[ind]-m*x[ind]-c)*x[ind]))\n",
    "        g_c=g_c+((-1.0)*(y[ind]-m*x[ind]-c))\n",
    "    g_m=g_m/ms\n",
    "    g_c=g_c/ms\n",
    "  #find change in m , c\n",
    "    dm=(-1.0)*l*g_m\n",
    "    dc=(-1.0)*l*g_c\n",
    "  #update variable \n",
    "    m=m+dm \n",
    "    c=c+dc\n",
    "    er=(1/(2*len(['X'])))*(er)\n",
    "    err.append(er)\n",
    "else:\n",
    "    for i in range(epochs):\n",
    "        for k in range(nb):\n",
    "            er=0\n",
    "            g_m=0\n",
    "            g_c=0\n",
    "            for j in range(bs):\n",
    "                er+=((y[j]-(m*x[j])-c))**2\n",
    "                ind=k*bs + j\n",
    "                g_m=g_m+((-1.0)*((y[ind]-m*x[ind]-c)*x[ind]))\n",
    "                g_c=g_c+((-1.0)*(y[ind]-m*x[ind]-c))\n",
    "            g_m=g_m/bs\n",
    "            g_c=g_c/bs\n",
    "      #find change in m,c\n",
    "            dm=(-1.0)*l*g_m\n",
    "            dc=(-1.0)*l*g_c\n",
    "      #update variable \n",
    "            m=m+dm \n",
    "            c=c+dc\n",
    "            er=(1/(2*len(train_data['X'])))*(er)\n",
    "            err.append(er)\n",
    "#step7 print variable x1, y1\n",
    "m=round(m,2)\n",
    "c=round(c,2)\n",
    "print(\"Minimum value obtained at m = {} ,c ={} for given function \".format(m,c))"
   ]
  },
  {
   "cell_type": "code",
   "execution_count": 28,
   "metadata": {},
   "outputs": [
    {
     "name": "stdout",
     "output_type": "stream",
     "text": [
      "Mean Square Error (MSE) :  4871663844.288312\n"
     ]
    }
   ],
   "source": [
    "yp=[]\n",
    "for i in range(len(x)):\n",
    "    p=m*x[i]+c\n",
    "    yp.append(p)\n",
    "sum=0\n",
    "for i in range(len(x)):\n",
    "    sum+=(y[i]-yp[i])**2\n",
    "    mse=sum/len(x)\n",
    "print(\"Mean Square Error (MSE) : \",mse)"
   ]
  },
  {
   "cell_type": "code",
   "execution_count": 29,
   "metadata": {},
   "outputs": [
    {
     "data": {
      "text/plain": [
       "Text(0.5, 1.0, 'Predicted data vs Actual Data')"
      ]
     },
     "execution_count": 29,
     "metadata": {},
     "output_type": "execute_result"
    },
    {
     "data": {
      "image/png": "[encoded data removed]",
      "text/plain": [
       "<Figure size 432x288 with 1 Axes>"
      ]
     },
     "metadata": {
      "needs_background": "light"
     },
     "output_type": "display_data"
    }
   ],
   "source": [
    "plt.plot(np.array(train_data['X']),np.array(yp),'green')\n",
    "plt.scatter(np.array(train_data['X']),np.array(train_data['Y']),color='red')\n",
    "plt.title(\"Predicted data vs Actual Data\")"
   ]
  },
  {
   "cell_type": "code",
   "execution_count": 31,
   "metadata": {},
   "outputs": [
    {
     "name": "stdout",
     "output_type": "stream",
     "text": [
      "Mean Square Error (MSE) :  4341075765.33158\n"
     ]
    }
   ],
   "source": [
    "tx=np.array(test_data['X'])\n",
    "ty=np.array(test_data['Y'])\n",
    "\n",
    "yp1=[]\n",
    "for i in range(len(tx)):\n",
    "     p1=m*tx[i]+c\n",
    "     yp1.append(p1)\n",
    "sum=0\n",
    "for i in range(len(tx)):\n",
    "    sum+=(ty[i]-yp1[i])**2\n",
    "    mse1=sum/len(tx)\n",
    "print(\"Mean Square Error (MSE) : \",mse1)"
   ]
  },
  {
   "cell_type": "code",
   "execution_count": 32,
   "metadata": {},
   "outputs": [
    {
     "data": {
      "image/png": "[encoded data removed]",
      "text/plain": [
       "<Figure size 432x288 with 1 Axes>"
      ]
     },
     "metadata": {
      "needs_background": "light"
     },
     "output_type": "display_data"
    }
   ],
   "source": [
    "plt.plot(test_data['Y'],yp1,'green')\n",
    "plt.grid()"
   ]
  },
  {
   "cell_type": "code",
   "execution_count": null,
   "metadata": {},
   "outputs": [],
   "source": []
  }
 ],
 "metadata": {
  "kernelspec": {
   "display_name": "Python 3",
   "language": "python",
   "name": "python3"
  },
  "language_info": {
   "codemirror_mode": {
    "name": "ipython",
    "version": 3
   },
   "file_extension": ".py",
   "mimetype": "text/x-python",
   "name": "python",
   "nbconvert_exporter": "python",
   "pygments_lexer": "ipython3",
   "version": "3.7.6"
  }
 },
 "nbformat": 4,
 "nbformat_minor": 4
}
