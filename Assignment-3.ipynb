{
 "cells": [
  {
   "cell_type": "code",
   "execution_count": 6,
   "metadata": {},
   "outputs": [
    {
     "name": "stdout",
     "output_type": "stream",
     "text": [
      "first order derivatives of given function are de/dm = 6.4*a*x + 6.4*b - 6.4*y ,de/dc = 6.4*a*x + 6.4*b - 6.4*y\n",
      "1.53 3.06\n",
      "minimum value obtained at a = 1.53 ,b =3.06 for given function\n"
     ]
    }
   ],
   "source": [
    "from sympy import Symbol, Derivative, symbols\n",
    "a= Symbol('a')\n",
    "b= Symbol('b')\n",
    "function = '3.2*(y-a*x-b)**2'\n",
    "partialderiv= Derivative(function, a)\n",
    "dfa = partialderiv.doit()\n",
    "partialderiv= Derivative(function, b)\n",
    "dfb = partialderiv.doit()\n",
    "xa = [0.2,0.4,0.6,0.8]\n",
    "ya = [2.4,3.8,4.2,4.6]\n",
    "\n",
    "print(f'first order derivatives of given function are de/dm = {dfb} ,de/dc = {dfb}')\n",
    "\n",
    "a1 = -1.0 \n",
    "b1 = 1.0  \n",
    "itr = 50 \n",
    "lr = 0.01 \n",
    "for i in range(0,itr):\n",
    "    for j in range(0,len(xa)):\n",
    "        a = symbols('a')\n",
    "        b= symbols('b')\n",
    "        x = symbols('x')\n",
    "        y = symbols('y')\n",
    "        dfav = dfa.subs(a, a1) \n",
    "        dfav = dfav.subs(b, b1) \n",
    "        dfav = dfav.subs(x, xa[j]) \n",
    "        dfav = dfav.subs(y, ya[j]) \n",
    "        dfav = round(dfav,2)\n",
    "        dfdv = dfb.subs(b, b1) \n",
    "        dfdv = dfdv.subs(a, a1) \n",
    "        dfdv = dfdv.subs(x, xa[j]) \n",
    "        dfdv = dfdv.subs(y, ya[j]) \n",
    "        dfdv = round(dfdv,2)\n",
    "       \n",
    "        da = (-1.0)*lr*dfav\n",
    "        db = (-1.0)*lr*dfdv\n",
    "        \n",
    "        a1 = a1 + da\n",
    "        a1 = round(a1, 2) \n",
    "        b1 = b1 + db\n",
    "        b1 = round(b1, 2)\n",
    "   \n",
    "print(a1, b1)\n",
    "print(f'minimum value obtained at a = {a1} ,b ={b1} for given function')"
   ]
  },
  {
   "cell_type": "code",
   "execution_count": 9,
   "metadata": {},
   "outputs": [
    {
     "data": {
      "image/png": "[encoded data removed]",
      "text/plain": [
       "<Figure size 432x288 with 1 Axes>"
      ]
     },
     "metadata": {
      "needs_background": "light"
     },
     "output_type": "display_data"
    }
   ],
   "source": [
    "import matplotlib.pyplot as plt\n",
    "import numpy as np\n",
    "x = np.linspace(-15,5,50)\n",
    "y = a1*x+b1\n",
    "plt.plot(x, y, '-g', label='y='+str(a1)+'x+'+str(b1))\n",
    "plt.title('Graph of '+'y='+str(a1)+'x+'+str(b1))\n",
    "plt.xlabel('x', color='blue')\n",
    "plt.ylabel('y', color='red')\n",
    "plt.legend(loc='upper left')\n",
    "plt.grid()\n",
    "plt.show()"
   ]
  },
  {
   "cell_type": "code",
   "execution_count": 12,
   "metadata": {},
   "outputs": [
    {
     "name": "stdout",
     "output_type": "stream",
     "text": [
      "mean square error is: 0.2746752202510834\n"
     ]
    }
   ],
   "source": [
    "data_pred = []\n",
    "for i in xa:\n",
    "    data_pred.append(a1*i+b1)\n",
    "\n",
    "from sklearn.metrics import mean_squared_error\n",
    "m= mean_squared_error(ya,data_pred)\n",
    "print(f\"mean square error is: {m}\")"
   ]
  },
  {
   "cell_type": "code",
   "execution_count": null,
   "metadata": {},
   "outputs": [],
   "source": []
  }
 ],
 "metadata": {
  "kernelspec": {
   "display_name": "Python 3",
   "language": "python",
   "name": "python3"
  },
  "language_info": {
   "codemirror_mode": {
    "name": "ipython",
    "version": 3
   },
   "file_extension": ".py",
   "mimetype": "text/x-python",
   "name": "python",
   "nbconvert_exporter": "python",
   "pygments_lexer": "ipython3",
   "version": "3.7.6"
  }
 },
 "nbformat": 4,
 "nbformat_minor": 4
}
