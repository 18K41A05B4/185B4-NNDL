{
 "cells": [
  {
   "cell_type": "code",
   "execution_count": 5,
   "metadata": {},
   "outputs": [
    {
     "name": "stdout",
     "output_type": "stream",
     "text": [
      "1.94 3.03\n",
      "minimum value at m = 1.94 ,c =3.03\n"
     ]
    }
   ],
   "source": [
    "from sympy import Symbol, Derivative, symbols\n",
    "m= Symbol('m')\n",
    "c= Symbol('c')\n",
    "function = '0.5*(y-m*x-c)**2'\n",
    "partialderivative= Derivative(function, m)\n",
    "dfm = partialderivative.doit()\n",
    "partialderivative= Derivative(function, c)\n",
    "dfc = partialderivative.doit()\n",
    "xa = [0.2,0.4,0.6,0.8]\n",
    "ya = [3.4,3.8,4.2,4.6]\n",
    "m1 = 1.0 \n",
    "c1 = -1.0  \n",
    "itr = 100  \n",
    "gama = 0.9\n",
    "vm = vc =0\n",
    "learningrate = 0.1  \n",
    "for i in range(0,itr):\n",
    "    for j in range(0,len(xa)):\n",
    "        m = symbols('m')\n",
    "        c = symbols('c')\n",
    "        x = symbols('x')\n",
    "        y = symbols('y')\n",
    "        dfmv = dfm.subs(m, m1+gama*vm) \n",
    "        dfmv = dfmv.subs(c, c1+gama*vc) \n",
    "        dfmv = dfmv.subs(x, xa[j]) \n",
    "        dfmv = dfmv.subs(y, ya[j]) \n",
    "        dfmv = round(dfmv,2)\n",
    "        dfcv = dfc.subs(c, c1+gama*vc) \n",
    "        dfcv = dfcv.subs(m, m1+gama*vm) \n",
    "        dfcv = dfcv.subs(x, xa[j]) \n",
    "        dfcv = dfcv.subs(y, ya[j]) \n",
    "        dfcv = round(dfcv,2)\n",
    "        vm = (gama * vm)-(learningrate*dfmv)\n",
    "        vc = (gama * vc)-(learningrate*dfcv)\n",
    "        m1 = m1 + vm\n",
    "        m1 = round(m1, 2) \n",
    "        c1 = c1 + vc\n",
    "        c1 = round(c1, 2)\n",
    "print(m1, c1)\n",
    "print(f'minimum value at m = {m1} ,c ={c1}')"
   ]
  },
  {
   "cell_type": "code",
   "execution_count": 6,
   "metadata": {},
   "outputs": [
    {
     "data": {
      "image/png": "[encoded data removed]",
      "text/plain": [
       "<Figure size 432x288 with 1 Axes>"
      ]
     },
     "metadata": {
      "needs_background": "light"
     },
     "output_type": "display_data"
    }
   ],
   "source": [
    "import matplotlib.pyplot as plt\n",
    "import numpy as np\n",
    "x = np.linspace(-5,5,100)\n",
    "y = m1*x+c1\n",
    "plt.plot(x, y, '-y', label='y='+str(m1)+'x+'+str(c1))\n",
    "plt.title('Graph of '+'y='+str(m1)+'x+'+str(c1))\n",
    "plt.xlabel('x', color='red')\n",
    "plt.ylabel('y', color='green')\n",
    "plt.legend(loc='upper left')\n",
    "plt.grid()\n",
    "plt.show()"
   ]
  },
  {
   "cell_type": "code",
   "execution_count": 7,
   "metadata": {},
   "outputs": [
    {
     "name": "stdout",
     "output_type": "stream",
     "text": [
      "mean square error : 0.000180411338806155\n"
     ]
    }
   ],
   "source": [
    "data_pred = []\n",
    "for i in xa:\n",
    "    data_pred.append(m1*i+c1)\n",
    "\n",
    "from sklearn.metrics import mean_squared_error\n",
    "mse = mean_squared_error(ya,data_pred)\n",
    "print(f\"mean square error : {mse}\")"
   ]
  },
  {
   "cell_type": "code",
   "execution_count": null,
   "metadata": {},
   "outputs": [],
   "source": []
  }
 ],
 "metadata": {
  "kernelspec": {
   "display_name": "Python 3",
   "language": "python",
   "name": "python3"
  },
  "language_info": {
   "codemirror_mode": {
    "name": "ipython",
    "version": 3
   },
   "file_extension": ".py",
   "mimetype": "text/x-python",
   "name": "python",
   "nbconvert_exporter": "python",
   "pygments_lexer": "ipython3",
   "version": "3.7.6"
  }
 },
 "nbformat": 4,
 "nbformat_minor": 4
}
